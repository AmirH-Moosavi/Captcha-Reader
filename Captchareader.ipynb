{
 "cells": [
  {
   "cell_type": "code",
   "execution_count": 1,
   "metadata": {},
   "outputs": [],
   "source": [
    "from sklearn.model_selection import train_test_split\n",
    "from sklearn.neighbors import KNeighborsClassifier\n",
    "from sklearn.metrics import accuracy_score\n",
    "from skimage.transform import resize\n",
    "from Captcha_Reader import getWords\n",
    "import matplotlib.pyplot as plt\n",
    "from skimage.io import imread\n",
    "from sklearn.svm import SVC\n",
    "import pandas as pd\n",
    "import numpy as np\n",
    "import os"
   ]
  },
  {
   "cell_type": "code",
   "execution_count": 5,
   "metadata": {
    "scrolled": false
   },
   "outputs": [
    {
     "name": "stdout",
     "output_type": "stream",
     "text": [
      "e ->  2%\n",
      "q ->  4%\n",
      "W ->  6%\n",
      "3 ->  8%\n",
      "H ->  9%\n",
      "Z ->  11%\n",
      "G ->  13%\n",
      "Y ->  15%\n",
      "g ->  17%\n",
      "d ->  19%\n",
      "f ->  21%\n",
      "k ->  23%\n",
      "7 ->  25%\n",
      "5 ->  26%\n",
      "c ->  28%\n",
      "9 ->  30%\n",
      "x ->  32%\n",
      "m ->  34%\n",
      "R ->  36%\n",
      "y ->  38%\n",
      "D ->  40%\n",
      "S ->  42%\n",
      "Q ->  43%\n",
      "r ->  45%\n",
      "b ->  47%\n",
      "2 ->  49%\n",
      "C ->  51%\n",
      "v ->  53%\n",
      "U ->  55%\n",
      "p ->  57%\n",
      "6 ->  58%\n",
      "B ->  60%\n",
      "M ->  62%\n",
      "E ->  64%\n",
      "T ->  66%\n",
      "1 ->  68%\n",
      "t ->  70%\n",
      "V ->  72%\n",
      "X ->  74%\n",
      "u ->  75%\n",
      "F ->  77%\n",
      "N ->  79%\n",
      "K ->  81%\n",
      "n ->  83%\n",
      "4 ->  85%\n",
      "z ->  87%\n",
      "A ->  89%\n",
      "h ->  91%\n",
      "a ->  92%\n",
      "P ->  94%\n",
      "8 ->  96%\n",
      "s ->  98%\n",
      "w ->  100%\n"
     ]
    }
   ],
   "source": [
    "target = []\n",
    "flat_data = []\n",
    "DataDirectory = './DataSet/'\n",
    "\n",
    "Categories = os.listdir(DataDirectory)\n",
    "\n",
    "for index, i in enumerate(Categories):\n",
    "    print(i, '-> ', str(round(100*(index + 1)/len(Categories))) + '%')\n",
    "    target_class = index\n",
    "    path = os.path.join(DataDirectory,i)\n",
    "    for img in os.listdir(path):\n",
    "        img_array = imread(os.path.join(path,img))\n",
    "#         img_resized = img_array[:210, 30:-1, :]\n",
    "        img_resized = resize(img_array,(40,40,3))\n",
    "        flat_data.append(img_resized.flatten())\n",
    "        target.append(target_class)\n",
    "\n",
    "flat_data = np.array(flat_data)\n",
    "target = np.array(target)"
   ]
  },
  {
   "cell_type": "code",
   "execution_count": 6,
   "metadata": {},
   "outputs": [],
   "source": [
    "df = pd.DataFrame(flat_data)\n",
    "df['Target'] = target"
   ]
  },
  {
   "cell_type": "code",
   "execution_count": 7,
   "metadata": {},
   "outputs": [
    {
     "name": "stdout",
     "output_type": "stream",
     "text": [
      "Input data dimensions: (5381, 4800)\n",
      "Output data dimensions: (5381,)\n",
      "Dimensions of input training data: (4304, 4800)\n",
      "Dimensions of input testing data: (1077, 4800)\n",
      "Dimensions of output training data: (4304,)\n",
      "Dimensions of output testing data: (1077,)\n"
     ]
    }
   ],
   "source": [
    "x = df.iloc[:,:-1].values\n",
    "y = target\n",
    "\n",
    "print(\"Input data dimensions:\",x.shape)\n",
    "print(\"Output data dimensions:\",y.shape)\n",
    "\n",
    "x_train, x_test, y_train, y_test = train_test_split(x, y, shuffle = True, test_size = 0.2, random_state = 109, stratify = y)\n",
    "\n",
    "print(\"Dimensions of input training data:\",x_train.shape)\n",
    "print(\"Dimensions of input testing data:\",x_test.shape)\n",
    "print(\"Dimensions of output training data:\",y_train.shape)\n",
    "print(\"Dimensions of output testing data:\",y_test.shape)"
   ]
  },
  {
   "cell_type": "code",
   "execution_count": 8,
   "metadata": {},
   "outputs": [
    {
     "data": {
      "text/plain": [
       "SVC()"
      ]
     },
     "execution_count": 8,
     "metadata": {},
     "output_type": "execute_result"
    }
   ],
   "source": [
    "rbf_svc = SVC(kernel='rbf')\n",
    "rbf_svc.fit(x_train, y_train)"
   ]
  },
  {
   "cell_type": "code",
   "execution_count": 9,
   "metadata": {},
   "outputs": [
    {
     "name": "stdout",
     "output_type": "stream",
     "text": [
      "[26  6 32 ...  7 42 28]\n",
      "[26  6 32 ...  7 11 28]\n"
     ]
    }
   ],
   "source": [
    "y_predict = rbf_svc.predict(x_test)\n",
    "print(y_test)\n",
    "print(y_predict)"
   ]
  },
  {
   "cell_type": "code",
   "execution_count": 10,
   "metadata": {},
   "outputs": [
    {
     "name": "stdout",
     "output_type": "stream",
     "text": [
      "0.8820798514391829\n"
     ]
    }
   ],
   "source": [
    "ac = accuracy_score(y_test,y_predict)\n",
    "print(ac)"
   ]
  },
  {
   "cell_type": "code",
   "execution_count": 5,
   "metadata": {},
   "outputs": [
    {
     "data": {
      "text/plain": [
       "KNeighborsClassifier(n_neighbors=3)"
      ]
     },
     "execution_count": 5,
     "metadata": {},
     "output_type": "execute_result"
    }
   ],
   "source": [
    "knn = KNeighborsClassifier(n_neighbors = 3, metric = 'minkowski', p = 2)\n",
    "knn.fit(x_train, y_train)"
   ]
  },
  {
   "cell_type": "code",
   "execution_count": null,
   "metadata": {},
   "outputs": [],
   "source": [
    "y_pred = knn.predict(x_test)\n",
    "print(y_test)\n",
    "print(y_pred)\n",
    "ac = accuracy_score(y_test,y_pred)\n",
    "print(ac)"
   ]
  },
  {
   "cell_type": "code",
   "execution_count": 11,
   "metadata": {},
   "outputs": [],
   "source": [
    "def getCaptchaText(Captcha):\n",
    "    plt.imshow(plt.imread(Captcha))\n",
    "    plt.show()\n",
    "    clusters = getWords(Captcha)\n",
    "    text = ''\n",
    "    for image in clusters:\n",
    "        flat_data = []\n",
    "        img_resized = resize(image,(40,40,3))\n",
    "        flat_data.append(img_resized.flatten())\n",
    "        flat_data = np.array(flat_data)\n",
    "        plt.imshow(img_resized)\n",
    "        plt.show()\n",
    "        y_output = rbf_svc.predict(flat_data)\n",
    "\n",
    "        text += Categories[y_output[0]].replace('upper', '').replace('lower', '')\n",
    "    return text"
   ]
  },
  {
   "cell_type": "code",
   "execution_count": 13,
   "metadata": {},
   "outputs": [
    {
     "data": {
      "image/png": "[encoded data removed]",
      "text/plain": [
       "<Figure size 432x288 with 1 Axes>"
      ]
     },
     "metadata": {
      "needs_background": "light"
     },
     "output_type": "display_data"
    },
    {
     "data": {
      "image/png": "[encoded data removed]",
      "text/plain": [
       "<Figure size 432x288 with 1 Axes>"
      ]
     },
     "metadata": {
      "needs_background": "light"
     },
     "output_type": "display_data"
    },
    {
     "data": {
      "image/png": "[encoded data removed]",
      "text/plain": [
       "<Figure size 432x288 with 1 Axes>"
      ]
     },
     "metadata": {
      "needs_background": "light"
     },
     "output_type": "display_data"
    },
    {
     "data": {
      "image/png": "[encoded data removed]",
      "text/plain": [
       "<Figure size 432x288 with 1 Axes>"
      ]
     },
     "metadata": {
      "needs_background": "light"
     },
     "output_type": "display_data"
    },
    {
     "data": {
      "image/png": "[encoded data removed]",
      "text/plain": [
       "<Figure size 432x288 with 1 Axes>"
      ]
     },
     "metadata": {
      "needs_background": "light"
     },
     "output_type": "display_data"
    },
    {
     "data": {
      "image/png": "[encoded data removed]",
      "text/plain": [
       "<Figure size 432x288 with 1 Axes>"
      ]
     },
     "metadata": {
      "needs_background": "light"
     },
     "output_type": "display_data"
    },
    {
     "name": "stdout",
     "output_type": "stream",
     "text": [
      "Predicted Text Is: WUP4m\n"
     ]
    }
   ],
   "source": [
    "Captcha = './Golestan-Captchas/15305.gif'\n",
    "text = getCaptchaText(Captcha)\n",
    "print(\"Predicted Text Is:\", text)"
   ]
  }
 ],
 "metadata": {
  "interpreter": {
   "hash": "aee8b7b246df8f9039afb4144a1f6fd8d2ca17a180786b69acc140d282b71a49"
  },
  "kernelspec": {
   "display_name": "Python 3 (ipykernel)",
   "language": "python",
   "name": "python3"
  },
  "language_info": {
   "codemirror_mode": {
    "name": "ipython",
    "version": 3
   },
   "file_extension": ".py",
   "mimetype": "text/x-python",
   "name": "python",
   "nbconvert_exporter": "python",
   "pygments_lexer": "ipython3",
   "version": "3.8.10"
  }
 },
 "nbformat": 4,
 "nbformat_minor": 2
}
